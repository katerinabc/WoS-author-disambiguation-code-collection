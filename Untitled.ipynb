{
 "cells": [
  {
   "cell_type": "markdown",
   "metadata": {},
   "source": [
    "# Dismabiguation rewritting for WoS data set"
   ]
  },
  {
   "cell_type": "markdown",
   "metadata": {},
   "source": [
    "Source: https://github.com/ameyahate/Disambiguation/blob/master/disambiguate.py"
   ]
  },
  {
   "cell_type": "code",
   "execution_count": 1,
   "metadata": {},
   "outputs": [],
   "source": [
    "import psycopg2\n",
    "from itertools import combinations as comb\n",
    "from itertools import product as prod\n",
    "import subprocess\n",
    "import os\n",
    "import scoringmod as sm\n",
    "from heapq import heappush, heappop\n",
    "from collections import Counter\n",
    "from math import ceil\n",
    "import re"
   ]
  },
  {
   "cell_type": "code",
   "execution_count": 8,
   "metadata": {},
   "outputs": [],
   "source": [
    "from pathlib import Path\n",
    "DATA_DIR = Path(\"C:/Users/0122564s/OneDrive - National University of Ireland, Galway/SFI_project/bibliometric/analysis/biblio_tm\")\n",
    "file_path = os.path.join(DATA_DIR, 'authors.csv')"
   ]
  },
  {
   "cell_type": "code",
   "execution_count": 9,
   "metadata": {},
   "outputs": [],
   "source": [
    "import pandas as pd\n",
    "def load_pubs(csv, pmid_column='PMID', author_column='Authors', encoding='latin1'):\n",
    "    \"\"\"Takes input CSV plus options, returns a pandas Series of PMIDs linked to lists of authors\"\"\"\n",
    "    sample_pubs = pd.read_csv(file_path, encoding='latin1')\n",
    "    author_lists = sample_pubs['AU']\n",
    "    author_lists = author_lists.str.split(\";\")\n",
    "    return(author_lists)\n",
    "\n",
    "sample_author_lists = load_pubs(os.path.join(DATA_DIR, 'authors.csv'))"
   ]
  },
  {
   "cell_type": "code",
   "execution_count": 17,
   "metadata": {},
   "outputs": [
    {
     "data": {
      "text/plain": [
       "0    [PUTALLAZ M, BALDWIN J, SELPH H]\n",
       "1          [ELLING A, CLARINGBOULD I]\n",
       "2                   [RYOO J, ROSEN S]\n",
       "3                [TAYLOR K, WALTER J]\n",
       "4                            [MOON S]\n",
       "Name: AU, dtype: object"
      ]
     },
     "execution_count": 17,
     "metadata": {},
     "output_type": "execute_result"
    }
   ],
   "source": [
    "sample_author_lists[:5]"
   ]
  },
  {
   "cell_type": "markdown",
   "metadata": {},
   "source": [
    "in some way I need to call the function diambiguate.\n",
    "\n",
    "how should the imported data look like for this function?"
   ]
  },
  {
   "cell_type": "code",
   "execution_count": null,
   "metadata": {},
   "outputs": [],
   "source": []
  }
 ],
 "metadata": {
  "kernelspec": {
   "display_name": "Python 3",
   "language": "python",
   "name": "python3"
  },
  "language_info": {
   "codemirror_mode": {
    "name": "ipython",
    "version": 3
   },
   "file_extension": ".py",
   "mimetype": "text/x-python",
   "name": "python",
   "nbconvert_exporter": "python",
   "pygments_lexer": "ipython3",
   "version": "3.7.0"
  }
 },
 "nbformat": 4,
 "nbformat_minor": 2
}
